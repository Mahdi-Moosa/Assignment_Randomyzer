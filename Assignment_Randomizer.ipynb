{
 "cells": [
  {
   "cell_type": "markdown",
   "metadata": {
    "id": "dpihIa5-IMMA"
   },
   "source": [
    "**Student Names/IDs and Question list input**\n",
    "\n",
    "* Provide Names/IDs of students as a list\n",
    "\n",
    "* Provide questions as a list"
   ]
  },
  {
   "cell_type": "code",
   "execution_count": 1,
   "metadata": {},
   "outputs": [],
   "source": [
    "def string_to_list(inp_str):\n",
    "    unduplicated_list = list(set([x.lower() for x in inp_str.split('\\n')]))\n",
    "    unduplicated_list = [x for x in unduplicated_list if len(x)>0]\n",
    "    return unduplicated_list\n",
    "\n",
    "student_list_str = \"\"\"\n",
    "a\n",
    "\n",
    "b\n",
    "\n",
    "c\n",
    "\n",
    "a1\n",
    "b2\n",
    "c3\n",
    "\n",
    "c5\n",
    "\n",
    "\"\"\""
   ]
  },
  {
   "cell_type": "code",
   "execution_count": 2,
   "metadata": {
    "id": "zyJEZpaC_zuX"
   },
   "outputs": [
    {
     "data": {
      "text/plain": [
       "['c5', 'a', 'c3', 'b', 'c', 'b2', 'a1']"
      ]
     },
     "execution_count": 2,
     "metadata": {},
     "output_type": "execute_result"
    }
   ],
   "source": [
    "student_list = string_to_list(student_list_str)\n",
    "question_list = ['q1', 'q2', 'q3']\n",
    "student_list"
   ]
  },
  {
   "cell_type": "markdown",
   "metadata": {
    "id": "FYAqWUWSIlS0"
   },
   "source": [
    "**Randomly assign questions to students**"
   ]
  },
  {
   "cell_type": "code",
   "execution_count": 3,
   "metadata": {
    "id": "rqdwrx4lAYcQ"
   },
   "outputs": [],
   "source": [
    "import random\n",
    "\n",
    "random.shuffle(student_list)\n",
    "\n",
    "question_index = 0\n",
    "question_assignment_dictionary = dict()\n",
    "\n",
    "while len(student_list) > 0:\n",
    "  popped_student = student_list.pop()\n",
    "  if question_list[question_index] in question_assignment_dictionary.keys():\n",
    "    question_assignment_dictionary[question_list[question_index]].append(popped_student) #= [popped_student]\n",
    "  else:\n",
    "    question_assignment_dictionary[question_list[question_index]] = [popped_student]\n",
    "  question_index += 1\n",
    "  if question_index >= len(question_list):\n",
    "    question_index = 0"
   ]
  },
  {
   "cell_type": "markdown",
   "metadata": {
    "id": "ly--7hYmIw_s"
   },
   "source": [
    "**Assigned Student Dictionary**"
   ]
  },
  {
   "cell_type": "code",
   "execution_count": 4,
   "metadata": {
    "colab": {
     "base_uri": "https://localhost:8080/"
    },
    "id": "uL2GC7e0A93_",
    "outputId": "a498190f-cb9a-4ad1-ebc9-759390be07aa"
   },
   "outputs": [
    {
     "name": "stdout",
     "output_type": "stream",
     "text": [
      "Question q1 was assigned to students :  ['b', 'b2', 'c']\n",
      "Question q2 was assigned to students :  ['c3', 'c5']\n",
      "Question q3 was assigned to students :  ['a', 'a1']\n"
     ]
    }
   ],
   "source": [
    "for i in question_assignment_dictionary:\n",
    "  print(f'Question {i} was assigned to students', \": \", question_assignment_dictionary[i])"
   ]
  },
  {
   "cell_type": "code",
   "execution_count": null,
   "metadata": {
    "id": "E-EnP17PECVv"
   },
   "outputs": [],
   "source": []
  }
 ],
 "metadata": {
  "colab": {
   "provenance": []
  },
  "kernelspec": {
   "display_name": "Python 3 (ipykernel)",
   "language": "python",
   "name": "python3"
  },
  "language_info": {
   "codemirror_mode": {
    "name": "ipython",
    "version": 3
   },
   "file_extension": ".py",
   "mimetype": "text/x-python",
   "name": "python",
   "nbconvert_exporter": "python",
   "pygments_lexer": "ipython3",
   "version": "3.7.13"
  }
 },
 "nbformat": 4,
 "nbformat_minor": 1
}
