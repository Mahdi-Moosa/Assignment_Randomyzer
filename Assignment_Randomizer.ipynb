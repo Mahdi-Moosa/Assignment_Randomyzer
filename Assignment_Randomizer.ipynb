{
  "nbformat": 4,
  "nbformat_minor": 0,
  "metadata": {
    "colab": {
      "provenance": []
    },
    "kernelspec": {
      "name": "python3",
      "display_name": "Python 3"
    },
    "language_info": {
      "name": "python"
    }
  },
  "cells": [
    {
      "cell_type": "markdown",
      "source": [
        "**Student Names/IDs and Question list input**\n",
        "\n",
        "* Provide Names/IDs of students as a list\n",
        "\n",
        "* Provide questions as a list"
      ],
      "metadata": {
        "id": "dpihIa5-IMMA"
      }
    },
    {
      "cell_type": "code",
      "execution_count": 30,
      "metadata": {
        "id": "zyJEZpaC_zuX"
      },
      "outputs": [],
      "source": [
        "student_list = ['a', 'b', 'c', 'a1', 'b1', 'c1', 'a2', 'b2', 'c2']\n",
        "question_list = ['q1', 'q2', 'q3']"
      ]
    },
    {
      "cell_type": "markdown",
      "source": [
        "**Randomly assign questions to students**"
      ],
      "metadata": {
        "id": "FYAqWUWSIlS0"
      }
    },
    {
      "cell_type": "code",
      "source": [
        "import random\n",
        "\n",
        "random.shuffle(student_list)\n",
        "\n",
        "question_index = 0\n",
        "question_assignment_dictionary = dict()\n",
        "\n",
        "while len(student_list) > 0:\n",
        "  popped_student = student_list.pop()\n",
        "  if question_list[question_index] in question_assignment_dictionary.keys():\n",
        "    question_assignment_dictionary[question_list[question_index]].append(popped_student) #= [popped_student]\n",
        "  else:\n",
        "    question_assignment_dictionary[question_list[question_index]] = [popped_student]\n",
        "  question_index += 1\n",
        "  if question_index >= len(question_list):\n",
        "    question_index = 0"
      ],
      "metadata": {
        "id": "rqdwrx4lAYcQ"
      },
      "execution_count": 31,
      "outputs": []
    },
    {
      "cell_type": "markdown",
      "source": [
        "**Assigned Student Dictionary**"
      ],
      "metadata": {
        "id": "ly--7hYmIw_s"
      }
    },
    {
      "cell_type": "code",
      "source": [
        "question_assignment_dictionary"
      ],
      "metadata": {
        "colab": {
          "base_uri": "https://localhost:8080/"
        },
        "id": "uL2GC7e0A93_",
        "outputId": "ea04e4ed-c342-4207-c807-d4d443b7892f"
      },
      "execution_count": 32,
      "outputs": [
        {
          "output_type": "execute_result",
          "data": {
            "text/plain": [
              "{'q1': ['a', 'c1', 'b'], 'q2': ['a1', 'b2', 'b1'], 'q3': ['c', 'c2', 'a2']}"
            ]
          },
          "metadata": {},
          "execution_count": 32
        }
      ]
    },
    {
      "cell_type": "code",
      "source": [],
      "metadata": {
        "id": "E-EnP17PECVv"
      },
      "execution_count": 32,
      "outputs": []
    }
  ]
}